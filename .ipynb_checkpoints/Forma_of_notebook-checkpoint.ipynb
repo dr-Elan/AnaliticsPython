{
 "cells": [
  {
   "cell_type": "markdown",
   "id": "fbdfbcec",
   "metadata": {},
   "source": [
    "Условие 1: \n",
    "Оформляйте ноутбук, используя эти советы:\n",
    "Номер задачи - заголовок 2\n",
    "Номер подзадачи - заголовок 3\n",
    "Предоставленные наборы данных оформляйте, как код\n",
    "Рекомендации для преподавателей по оценке задания:\n",
    "Смотреть, чтобы студент красиво оформлял ноутбук, использовал ячейки с текстом, указывал номера заданий\n",
    "Условие 2: \n",
    "На складе лежат разные фрукты в разном количестве.\n",
    "Нужно написать функцию, которая на вход принимает любое количество названий фруктов и их количество, а возвращает общее количество фруктов на складе\n",
    "Условие 2: \n",
    "На складе лежат разные фрукты в разном количестве.\n",
    "Нужно написать функцию, которая на вход принимает любое количество названий фруктов и их количество, а возвращает общее количество фруктов на складе\n",
    "Условие 3: \n",
    "Дан список с затратами на рекламу. Но в данных есть ошибки, некоторые затраты имеют отрицательную величину. Удалите такие значения из списка и посчитайте суммарные затраты\n",
    "[100, 125, -90, 345, 655, -1, 0, 200]\n",
    "Используйте list comprehensions\n",
    "Условие 4.1: \n",
    "Даны два списка.\n",
    "Дата покупки\n",
    "['2021-09-14', '2021-12-15', '2021-09-08', '2021-12-05', '2021-10-09', '2021-09-30', '2021-12-22', '2021-11-29', '2021-12-24', '2021-11-26', '2021-10-27', '2021-12-18', '2021-11-09', '2021-11-23', '2021-09-27', '2021-10-02', '2021-12-27', '2021-09-20', '2021-12-13', '2021-11-01', '2021-11-09', '2021-12-06', '2021-12-08', '2021-10-09', '2021-10-31', '2021-09-30', '2021-11-09', '2021-12-13', '2021-10-26', '2021-12-09']\n",
    "Суммы покупок по датам\n",
    "[1270, 8413, 9028, 3703, 5739, 4095, 295, 4944, 5723, 3701, 4471, 651, 7037, 4274, 6275, 4988, 6930, 2971, 6592, 2004, 2822, 519, 3406, 2732, 5015, 2008, 316, 6333, 5700, 2887]\n",
    "4.1 Найдите, какая выручка у компании в ноябре\n",
    "Используйте list comprehensions\n",
    "4.2 Найдите выручку компании в зависимости от месяца\n",
    "Для этого напишите функцию, которая на вход принимает список с датами и список с выручкой, а на выходе словарь, где ключи - это месяцы, а значения - это выручка.\n",
    "Используйте аннотирование типов. "
   ]
  },
  {
   "cell_type": "code",
   "execution_count": 42,
   "id": "63d846c8",
   "metadata": {},
   "outputs": [],
   "source": [
    "dict1 = {'One':1 , 'Two':2,'Three':3}\n",
    "dict2 = {'Four':4, 'Five':5, 'Six':6}"
   ]
  },
  {
   "cell_type": "code",
   "execution_count": 19,
   "id": "63604407",
   "metadata": {},
   "outputs": [
    {
     "data": {
      "text/plain": [
       "{'One': 1, 'Two': 2, 'Three': 3, 'Four': 4, 'Five': 5, 'Six': 6}"
      ]
     },
     "execution_count": 19,
     "metadata": {},
     "output_type": "execute_result"
    }
   ],
   "source": [
    "z = dict(list(dict1.items())+list(dict2.items()))\n",
    "z"
   ]
  },
  {
   "cell_type": "code",
   "execution_count": 29,
   "id": "6c9ad5f1",
   "metadata": {},
   "outputs": [
    {
     "data": {
      "text/plain": [
       "'3.8.8'"
      ]
     },
     "execution_count": 29,
     "metadata": {},
     "output_type": "execute_result"
    }
   ],
   "source": [
    "import platform \n",
    "platform.python_version()\n",
    "\n",
    "# w = dict1|dict2"
   ]
  },
  {
   "cell_type": "code",
   "execution_count": 14,
   "id": "7f2ab17c",
   "metadata": {},
   "outputs": [],
   "source": [
    "dict1.update(dict2)"
   ]
  },
  {
   "cell_type": "code",
   "execution_count": 30,
   "id": "a84418e1",
   "metadata": {},
   "outputs": [
    {
     "ename": "AttributeError",
     "evalue": "'dict' object has no attribute 'merge'",
     "output_type": "error",
     "traceback": [
      "\u001b[0;31m---------------------------------------------------------------------------\u001b[0m",
      "\u001b[0;31mAttributeError\u001b[0m                            Traceback (most recent call last)",
      "\u001b[0;32m<ipython-input-30-0002f81f6ada>\u001b[0m in \u001b[0;36m<module>\u001b[0;34m\u001b[0m\n\u001b[0;32m----> 1\u001b[0;31m \u001b[0mdict1\u001b[0m\u001b[0;34m.\u001b[0m\u001b[0mmerge\u001b[0m\u001b[0;34m(\u001b[0m\u001b[0mdict2\u001b[0m\u001b[0;34m)\u001b[0m\u001b[0;34m\u001b[0m\u001b[0;34m\u001b[0m\u001b[0m\n\u001b[0m",
      "\u001b[0;31mAttributeError\u001b[0m: 'dict' object has no attribute 'merge'"
     ]
    }
   ],
   "source": [
    "dict1.merge(dict2) "
   ]
  },
  {
   "cell_type": "code",
   "execution_count": 44,
   "id": "255953ef",
   "metadata": {},
   "outputs": [],
   "source": [
    "def plus(one, two):\n",
    "    return one.update(two)"
   ]
  },
  {
   "cell_type": "code",
   "execution_count": 45,
   "id": "037263f7",
   "metadata": {},
   "outputs": [
    {
     "name": "stdout",
     "output_type": "stream",
     "text": [
      "None\n"
     ]
    }
   ],
   "source": [
    "print(plus(dict1, dict2))"
   ]
  },
  {
   "cell_type": "code",
   "execution_count": 54,
   "id": "74e67c67",
   "metadata": {},
   "outputs": [],
   "source": [
    "keys = ['One', 'Two', 'Three']\n",
    "values = [1,2,3]\n",
    "some_dict ={}"
   ]
  },
  {
   "cell_type": "code",
   "execution_count": 55,
   "id": "1150cbb8",
   "metadata": {},
   "outputs": [
    {
     "name": "stdout",
     "output_type": "stream",
     "text": [
      "{'One': 1, 'Two': 2, 'Three': 3}\n"
     ]
    }
   ],
   "source": [
    "for i,j in zip(keys, values):\n",
    "    some_dict[i] = j\n",
    "print(some_dict)"
   ]
  },
  {
   "cell_type": "code",
   "execution_count": 60,
   "id": "77adf03f",
   "metadata": {},
   "outputs": [],
   "source": [
    "def func(keys: list, values: list) -> dict:\n",
    "    Dictionary = {}\n",
    "    for i in range(len(keys)):\n",
    "        Dictionary[keys[i]] = values[i]\n",
    "    return Dictionary"
   ]
  },
  {
   "cell_type": "code",
   "execution_count": 61,
   "id": "56676df9",
   "metadata": {},
   "outputs": [
    {
     "data": {
      "text/plain": [
       "{'One': 1, 'Two': 2, 'Three': 3}"
      ]
     },
     "execution_count": 61,
     "metadata": {},
     "output_type": "execute_result"
    }
   ],
   "source": [
    "func(keys, values)"
   ]
  },
  {
   "cell_type": "code",
   "execution_count": 62,
   "id": "b25fd5b4",
   "metadata": {},
   "outputs": [],
   "source": [
    "def make_dict(keys, values):\n",
    "    return {key: value for key, value in zip(keys, values)}"
   ]
  },
  {
   "cell_type": "code",
   "execution_count": 63,
   "id": "236aeb33",
   "metadata": {},
   "outputs": [
    {
     "data": {
      "text/plain": [
       "{'One': 1, 'Two': 2, 'Three': 3}"
      ]
     },
     "execution_count": 63,
     "metadata": {},
     "output_type": "execute_result"
    }
   ],
   "source": [
    "make_dict(keys, values)"
   ]
  },
  {
   "cell_type": "code",
   "execution_count": 64,
   "id": "6015d245",
   "metadata": {},
   "outputs": [],
   "source": [
    "clien_dict = {\n",
    "    \"name\": \"John\",\n",
    "    \"age\": 25, \n",
    "    \"salary\": 5000,\n",
    "    \"city\": \"Moscow\"\n",
    "}"
   ]
  },
  {
   "cell_type": "code",
   "execution_count": 70,
   "id": "80ca5ef0",
   "metadata": {},
   "outputs": [
    {
     "data": {
      "text/plain": [
       "{'name': 'John', 'age': 25}"
      ]
     },
     "execution_count": 70,
     "metadata": {},
     "output_type": "execute_result"
    }
   ],
   "source": [
    "def choise(client: dict, keys: list = [\"name\", \"age\"] )-> dict:\n",
    "    new_dict = {}\n",
    "    for key in keys:\n",
    "        if key in client.keys():\n",
    "            new_dict[key] = client[key]\n",
    "    return new_dict\n",
    "choise(clien_dict, [\"name\", \"age\"])"
   ]
  },
  {
   "cell_type": "code",
   "execution_count": 75,
   "id": "36d3149b",
   "metadata": {},
   "outputs": [
    {
     "data": {
      "text/plain": [
       "{'name': 'John', 'age': 25, 'city': 'Moscow'}"
      ]
     },
     "execution_count": 75,
     "metadata": {},
     "output_type": "execute_result"
    }
   ],
   "source": [
    "def choise2(client: dict, keys: list = [\"name\", \"age\", \"city\"] )-> dict:\n",
    "    new_dict = {}\n",
    "    for key in keys:\n",
    "        new_dict.update({key:client.get(key)})\n",
    "    return new_dict\n",
    "choise(clien_dict, [\"name\", \"age\",\"city\"])"
   ]
  },
  {
   "cell_type": "code",
   "execution_count": 78,
   "id": "50d195d8",
   "metadata": {},
   "outputs": [
    {
     "data": {
      "text/plain": [
       "{'name': 'John', 'age': 25, 'city': 'Moscow'}"
      ]
     },
     "execution_count": 78,
     "metadata": {},
     "output_type": "execute_result"
    }
   ],
   "source": [
    "def choise3(client: dict, keys: list = [\"name\", \"age\", \"city\"] )-> dict:\n",
    "    new_dict = {}  \n",
    "    return {key:client.get(key) for key in keys}\n",
    "choise3(clien_dict, [\"name\", \"age\",\"city\"])"
   ]
  },
  {
   "cell_type": "markdown",
   "id": "2d7eacb2",
   "metadata": {},
   "source": [
    "4.1 Сгенерируйте случайные целые числа от 0 до 100 в количестве 5 штук с помощью модуля random\n",
    "Зафиксируйте псевдогенерацию, чтобы сгенерированные значения всегда были одинаковые\n",
    "Используйте list comprehensions\"\"\"\"\"\""
   ]
  },
  {
   "cell_type": "code",
   "execution_count": 79,
   "id": "309e44e6",
   "metadata": {},
   "outputs": [],
   "source": [
    "import random"
   ]
  },
  {
   "cell_type": "code",
   "execution_count": 86,
   "id": "ad056a9c",
   "metadata": {},
   "outputs": [
    {
     "name": "stdout",
     "output_type": "stream",
     "text": [
      "None\n"
     ]
    },
    {
     "data": {
      "text/plain": [
       "[18, 58, 58, 98, 22]"
      ]
     },
     "execution_count": 86,
     "metadata": {},
     "output_type": "execute_result"
    }
   ],
   "source": [
    "print(random.seed(100))\n",
    "[random.randint(0, 100) for _ in range(5)]"
   ]
  },
  {
   "cell_type": "markdown",
   "id": "c87002aa",
   "metadata": {},
   "source": [
    "Напишите генератор\n",
    "Генератор на вход принимает список с данными о клиенте (данные из пункта 4.1)\n",
    "Внутри генератора реализуйте обход по списку с данными\n",
    "На каждой итерации генератор будет возвращать кортеж из двух элементов:\n",
    "данные по клиенту (в зависимости от итерации, на 0 итерации вернется 0 элемент, на 1 итерации вернется 1 элемент и тд)\n",
    "целочисленное значение, которое показывает, сколько секунд прошло с предыдущей итерации\n",
    "Примечание: секунды, которые возвращаются должны показывать время не с начала запуска генератора, а именно то время, которое прошло с предыдущей итерации. А значит время на первой итерации должно равняться 0.\n",
    "Используйте функцию time из модуля time для подсчета времени.\n",
    "Чтобы проверить работу таймера, запустите проход по генератору в цикле с time.sleep(2)"
   ]
  },
  {
   "cell_type": "code",
   "execution_count": 94,
   "id": "7f1c8208",
   "metadata": {},
   "outputs": [],
   "source": [
    "import time\n",
    "list_1 = [49, 97, 53, 5, 33]"
   ]
  },
  {
   "cell_type": "code",
   "execution_count": 96,
   "id": "8a192d14",
   "metadata": {},
   "outputs": [
    {
     "name": "stdout",
     "output_type": "stream",
     "text": [
      "1 (49, 9.5367431640625e-07)\n",
      "2 (97, 0.001600027084350586)\n",
      "3 (53, 8.225440979003906e-05)\n",
      "4 (5, 7.557868957519531e-05)\n",
      "5 (33, 7.224082946777344e-05)\n"
     ]
    }
   ],
   "source": [
    "def clients(some_list: list):\n",
    "    prev_time = time.time()\n",
    "    for client in some_list:\n",
    "        current_time = time.time()\n",
    "        yield client, current_time - prev_time\n",
    "        prev_time = current_time\n",
    "generator = clients(list_1)\n",
    "for i in range(len(list_1)):\n",
    "    print(i+1, next(generator))"
   ]
  },
  {
   "cell_type": "markdown",
   "id": "ef1fa575",
   "metadata": {},
   "source": [
    "<img src = 'photo_2023-02-18 20.04.24.jpeg'>"
   ]
  },
  {
   "cell_type": "markdown",
   "id": "d4add49f",
   "metadata": {},
   "source": [
    "<tabel>\n",
    "<tr>\n",
    "<td> 1 контрольная работа </td>\n",
    "</tr>\n",
    "<tr>\n",
    "<td> 1 контрольная работа </td>\n",
    "</tr>\n",
    "<tr>\n",
    "<td> 1 контрольная работа </td>\n",
    "</tr>\n",
    "</tabel>"
   ]
  },
  {
   "cell_type": "code",
   "execution_count": 99,
   "id": "78068cb0",
   "metadata": {},
   "outputs": [
    {
     "ename": "SyntaxError",
     "evalue": "invalid syntax (<ipython-input-99-16a5e3cd3259>, line 1)",
     "output_type": "error",
     "traceback": [
      "\u001b[0;36m  File \u001b[0;32m\"<ipython-input-99-16a5e3cd3259>\"\u001b[0;36m, line \u001b[0;32m1\u001b[0m\n\u001b[0;31m    <tabel>\u001b[0m\n\u001b[0m    ^\u001b[0m\n\u001b[0;31mSyntaxError\u001b[0m\u001b[0;31m:\u001b[0m invalid syntax\n"
     ]
    }
   ],
   "source": []
  },
  {
   "cell_type": "markdown",
   "id": "7b67591f",
   "metadata": {},
   "source": [
    "|:      :| до события | во время события |\n",
    "|:------:|: ---------- :|------------------|\n",
    "|1точка| 250        |              500 |"
   ]
  },
  {
   "cell_type": "markdown",
   "id": "0f3110bc",
   "metadata": {},
   "source": [
    "| | <!-- -->      | <!-- -->        | <!-- -->      |\n",
    "|:-------------:|:---------------:|:-------------:|\n",
    "| Row 1         | **Bold**        | Cell 3        |\n",
    "| Row 2         | *Italic*        | Cell 6        |\n",
    "| Row 3         | ~~Strike~~      | Cell 9        |\n",
    "    | <!-- -->        | <!-- -->      |\n",
    "|:-------------:|:---------------:|:-------------:|\n",
    "| Row 1         | **Bold**        | Cell 3        |\n",
    "| Row 2         | *Italic*        | Cell 6        |\n",
    "| Row 3         | ~~Strike~~      | Cell 9        |\n"
   ]
  },
  {
   "cell_type": "code",
   "execution_count": 102,
   "id": "9b5bc887",
   "metadata": {},
   "outputs": [
    {
     "data": {
      "text/plain": [
       "3.0"
      ]
     },
     "execution_count": 102,
     "metadata": {},
     "output_type": "execute_result"
    }
   ],
   "source": [
    "def data(*args):\n",
    "    return sum(*args)/len(*args)\n",
    "data([1,2,3,4,5])"
   ]
  },
  {
   "cell_type": "code",
   "execution_count": null,
   "id": "ac00666d",
   "metadata": {},
   "outputs": [],
   "source": []
  }
 ],
 "metadata": {
  "kernelspec": {
   "display_name": "Python 3",
   "language": "python",
   "name": "python3"
  },
  "language_info": {
   "codemirror_mode": {
    "name": "ipython",
    "version": 3
   },
   "file_extension": ".py",
   "mimetype": "text/x-python",
   "name": "python",
   "nbconvert_exporter": "python",
   "pygments_lexer": "ipython3",
   "version": "3.8.8"
  }
 },
 "nbformat": 4,
 "nbformat_minor": 5
}
