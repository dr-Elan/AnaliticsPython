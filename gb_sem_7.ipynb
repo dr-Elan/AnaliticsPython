{
 "cells": [
  {
   "cell_type": "code",
   "execution_count": 2,
   "id": "bb528926",
   "metadata": {},
   "outputs": [
    {
     "ename": "ModuleNotFoundError",
     "evalue": "No module named 'plotly'",
     "output_type": "error",
     "traceback": [
      "\u001b[0;31m---------------------------------------------------------------------------\u001b[0m",
      "\u001b[0;31mModuleNotFoundError\u001b[0m                       Traceback (most recent call last)",
      "Cell \u001b[0;32mIn[2], line 3\u001b[0m\n\u001b[1;32m      1\u001b[0m \u001b[38;5;66;03m# импорт необходимых библиотек\u001b[39;00m\n\u001b[1;32m      2\u001b[0m \u001b[38;5;28;01mimport\u001b[39;00m \u001b[38;5;21;01mnumpy\u001b[39;00m \u001b[38;5;28;01mas\u001b[39;00m \u001b[38;5;21;01mnp\u001b[39;00m\n\u001b[0;32m----> 3\u001b[0m \u001b[38;5;28;01mimport\u001b[39;00m \u001b[38;5;21;01mplotly\u001b[39;00m\u001b[38;5;21;01m.\u001b[39;00m\u001b[38;5;21;01mgraph_objects\u001b[39;00m \u001b[38;5;28;01mas\u001b[39;00m \u001b[38;5;21;01mgo\u001b[39;00m\n\u001b[1;32m      4\u001b[0m \u001b[38;5;28;01mfrom\u001b[39;00m \u001b[38;5;21;01mplotly\u001b[39;00m\u001b[38;5;21;01m.\u001b[39;00m\u001b[38;5;21;01msubplots\u001b[39;00m \u001b[38;5;28;01mimport\u001b[39;00m make_subplots\n\u001b[1;32m      5\u001b[0m \u001b[38;5;28;01mfrom\u001b[39;00m \u001b[38;5;21;01mtqdm\u001b[39;00m \u001b[38;5;28;01mimport\u001b[39;00m tqdm\n",
      "\u001b[0;31mModuleNotFoundError\u001b[0m: No module named 'plotly'"
     ]
    }
   ],
   "source": [
    "# импорт необходимых библиотек\n",
    "import numpy as np\n",
    "import plotly.graph_objects as go\n",
    "from plotly.subplots import make_subplots\n",
    "from tqdm import tqdm\n",
    "\n",
    "import scipy.stats as st\n",
    "from statsmodels.stats.power import tt_ind_solve_power\n",
    "from statsmodels.stats.power import zt_ind_solve_power\n",
    "from statsmodels.stats.proportion import proportion_effectsize\n",
    "from statsmodels.stats import proportion\n",
    "from statsmodels.stats.meta_analysis import effectsize_smd"
   ]
  },
  {
   "cell_type": "markdown",
   "id": "631772b3",
   "metadata": {},
   "source": [
    "### Задание на семинар\n",
    "1. Мы провели А/А тест, в котором сравнивали одну и ту же версию сайта. Полученные результаты выглядят следующим образом. Можем ли мы на основе проведенного А/А теста запустить А/В-тестирование? Используйте уровень доверия 95%.\n",
    "|                | **Версия А1** | **Версия А2** |\n",
    "|:--------------:|:------------:|:------------:|\n",
    "|   **Выборка**  |     1731     |     1702     |\n",
    "| **Транзакция** |      152     |      189     |"
   ]
  },
  {
   "cell_type": "code",
   "execution_count": null,
   "id": "f3d937b8",
   "metadata": {},
   "outputs": [],
   "source": [
    "# Задаем начальные параметры\n",
    "alpha = .05\n",
    "prob_1, prob_2 = 152 / 1731, 189 / 1702\n",
    "sample_1_size, sample_2_size = 1731, 1702\n",
    "# Генерируем распределение\n",
    "a = st.bernoulli.rvs(p=prob_1, size=sample_1_size, random_state=12)\n",
    "b = st.bernoulli.rvs(p=prob_2, size=sample_2_size, random_state=25)"
   ]
  },
  {
   "cell_type": "code",
   "execution_count": null,
   "id": "d4e747ed",
   "metadata": {},
   "outputs": [],
   "source": [
    "# Сравнение хи2 и z\n",
    "chi_value, p_value_chi2, table = proportion.proportions_chisquare([a.sum(), b.sum()], [a.size, b.size])\n",
    "z_value, p_value_z = proportion.proportions_ztest([a.sum(), b.sum()], [a.size, b.size])\n",
    "print(p_value_chi2, p_value_z)"
   ]
  },
  {
   "cell_type": "code",
   "execution_count": null,
   "id": "f1423058",
   "metadata": {},
   "outputs": [],
   "source": [
    "# Считаем статистику по выборкам\n",
    "chi_value, p_value, table = proportion.proportions_chisquare([a.sum(), b.sum()], [a.size, b.size])\n",
    "\n",
    "se = np.sqrt((prob_1 * (1 - prob_1) / a.size) + (prob_2 * (1 - prob_2) / b.size))\n",
    "md = a.mean() - b.mean()\n",
    "left = md - 1.96 * se\n",
    "right = md + 1.96 * se\n",
    "\n",
    "print(f\"Mean difference: {np.round(md, 5)}, p-value: {p_value} and confidence interval is: [{np.round(left, 5)}, {np.round(right, 5)}]\")\n",
    "\n",
    "if p_value < alpha and not min(left, right) < 0 < max(left, right):\n",
    "    print(f\"Sample # {1 if md > 0 else 2} mean is greater\")\n",
    "else:\n",
    "    print(\"No significant difference\")"
   ]
  },
  {
   "cell_type": "code",
   "execution_count": null,
   "id": "1b4b77a5",
   "metadata": {},
   "outputs": [],
   "source": [
    "# Альтернативный способ через бутсрап\n",
    "booted_diff = []\n",
    "booted_pvalue = []\n",
    "size = max(a.size, b.size)\n",
    "for _ in tqdm(range(10_000)):\n",
    "    a_s = st.bernoulli.rvs(p=prob_1, size=size)\n",
    "    b_s = st.bernoulli.rvs(p=prob_2, size=size)\n",
    "    booted_diff.append(np.mean(a_s - b_s))\n",
    "    booted_pvalue.append(proportion.proportions_chisquare([a_s.sum(), b_s.sum()], [a_s.size, b_s.size])[1])\n",
    "\n",
    "md_ci, std_ci = np.mean(booted_diff), np.std(booted_diff, ddof=1)\n",
    "left_ci, right_ci = np.percentile(booted_diff, [2.5, 97.5])\n",
    "p_value_ci = 2 * (1 - st.norm.cdf(np.abs(md_ci / std_ci)))"
   ]
  },
  {
   "cell_type": "code",
   "execution_count": null,
   "id": "5c800299",
   "metadata": {},
   "outputs": [],
   "source": [
    "# Доверительный интервал разниц между группами\n",
    "print(f\"Mean difference: {np.round(md_ci, 5)}, p-value: {p_value_ci} and confidence interval is: [{np.round(left_ci, 5)}, {np.round(right_ci, 5)}]\")\n",
    "\n",
    "if p_value_ci < alpha and not min(left_ci, right_ci) < 0 < max(left_ci, right_ci):\n",
    "    print(f\"Sample # {1 if md_ci > 0 else 2} mean is greater\")\n",
    "else:\n",
    "    print(\"No significant difference\")"
   ]
  },
  {
   "cell_type": "code",
   "execution_count": null,
   "id": "7f849263",
   "metadata": {},
   "outputs": [],
   "source": [
    "# Ошибка первого рода, которая говорит нам о том, что группы различаются между собой!\n",
    "np.mean(np.array(booted_pvalue) < 0.05) # FPR"
   ]
  },
  {
   "cell_type": "code",
   "execution_count": null,
   "id": "9f48a236",
   "metadata": {},
   "outputs": [],
   "source": [
    "fig = make_subplots(rows=2, cols=1)\n",
    "\n",
    "fig.add_trace(\n",
    "    go.Histogram(x=booted_pvalue, name='booted_pvalue',),\n",
    "    row=1, col=1\n",
    ")\n",
    "\n",
    "fig.add_trace(\n",
    "    go.Histogram(x=booted_diff, name='booted_diff',),\n",
    "    row=2, col=1\n",
    ")\n",
    "\n",
    "fig.update_layout(height=800, width=1000, title_text=\"After bootstrap\")\n",
    "fig.show()"
   ]
  },
  {
   "cell_type": "markdown",
   "id": "9f2f5cbe",
   "metadata": {},
   "source": [
    "### Задание на семинар\n",
    "2. Мы провели А/А тест, в котором сравнивали одну и ту же версию сайта. Полученные результаты выглядят следующим образом. Можем ли мы на основе проведенного А/А теста запустить А/В-тестирование? Используйте уровень доверия 95%.\n",
    "|                             | **Версия А1** | **Версия А2** |\n",
    "|:---------------------------:|:-------------:|:-------------:|\n",
    "|         **Среднее**         |     38.175    |     33.710    |\n",
    "| **Стандартное  отклонение** |       28      |       11      |\n",
    "|         **Выборка**         |      108      |      105      |"
   ]
  },
  {
   "cell_type": "code",
   "execution_count": null,
   "id": "2042f030",
   "metadata": {},
   "outputs": [],
   "source": [
    "# Вводим исходные данные по выборкам\n",
    "alpha = .05\n",
    "sample_1_mean, sample_2_mean = 38.175, 38.710 \n",
    "sample_1_se, sample_2_se = 28, 11\n",
    "sample_1_size, sample_2_size = 1080, 1050\n",
    "# Генерируем нормальное распределение на основе введенных данных\n",
    "norm_1 = st.norm(loc=sample_1_mean, scale=sample_1_se).rvs(size=sample_1_size, random_state=42)\n",
    "norm_2 = st.norm(loc=sample_2_mean, scale=sample_2_se).rvs(size=sample_2_size, random_state=42)"
   ]
  },
  {
   "cell_type": "code",
   "execution_count": null,
   "id": "831708a4",
   "metadata": {},
   "outputs": [],
   "source": [
    "fig = go.Figure()\n",
    "fig.add_trace(go.Histogram(x=norm_1, name='norm_1'))\n",
    "fig.add_trace(go.Histogram(x=norm_2, name='norm_2'))\n",
    "\n",
    "# Overlay both histograms\n",
    "fig.update_layout(barmode='overlay')\n",
    "# Reduce opacity to see both histograms\n",
    "fig.update_traces(opacity=0.5)\n",
    "fig.show()"
   ]
  },
  {
   "cell_type": "code",
   "execution_count": null,
   "id": "6a2f2676",
   "metadata": {},
   "outputs": [],
   "source": [
    "# Считаем статистику по выборкам\n",
    "tvalue, pvalue = st.ttest_ind(norm_1, norm_2, equal_var=False, alternative='two-sided')\n",
    "md = sample_1_mean - sample_2_mean\n",
    "\n",
    "left, right = st.norm.interval(.95, loc=md, scale=se)\n",
    "print(f\"Mean difference: {np.round(md, 5)}, p-value: {p_value} and confidence interval is: [{np.round(left, 5)}, {np.round(right, 5)}]\")\n",
    "\n",
    "if p_value < alpha and not min(left, right) < 0 < max(left, right):\n",
    "    print(f\"Sample # {1 if md > 0 else 2} mean is greater\")\n",
    "else:\n",
    "    print(\"No significant difference\")"
   ]
  },
  {
   "cell_type": "code",
   "execution_count": null,
   "id": "efdb8321",
   "metadata": {},
   "outputs": [],
   "source": [
    "# Альтернативный способ через бутсрап\n",
    "booted_diff = []\n",
    "booted_pvalue = []\n",
    "size = max(norm_1.size, norm_2.size)\n",
    "for _ in tqdm(range(10_000)):\n",
    "    a_s = np.random.choice(norm_1, size=size, replace=True)\n",
    "    b_s = np.random.choice(norm_2, size=size, replace=True)\n",
    "    booted_diff.append(np.mean(a_s - b_s))\n",
    "    booted_pvalue.append(st.ttest_ind(a_s, b_s, equal_var=False, alternative='two-sided')[1])\n",
    "\n",
    "# Доверительный интервал разниц между группами\n",
    "md_ci, std_ci = np.mean(booted_diff), np.std(booted_diff, ddof=1)\n",
    "left_ci, right_ci = np.percentile(booted_diff, [2.5, 97.5])\n",
    "p_value_ci = 2 * (1 - st.norm.cdf(np.abs(md_ci / std_ci)))"
   ]
  },
  {
   "cell_type": "code",
   "execution_count": null,
   "id": "f4fc7924",
   "metadata": {},
   "outputs": [],
   "source": [
    "print(f\"Mean difference: {np.round(md_ci, 5)}, p-value: {p_value_ci} and confidence interval is: [{np.round(left_ci, 5)}, {np.round(right_ci, 5)}]\")\n",
    "\n",
    "if p_value_ci < alpha and not min(left_ci, right_ci) < 0 < max(left_ci, right_ci):\n",
    "    print(f\"Sample # {1 if md_ci > 0 else 2} mean is greater\")\n",
    "else:\n",
    "    print(\"No significant difference\")"
   ]
  },
  {
   "cell_type": "code",
   "execution_count": null,
   "id": "850228b7",
   "metadata": {},
   "outputs": [],
   "source": [
    "# Ошибка первого рода, которая говорит нам о том, что группы почти не различаются между собой!\n",
    "np.mean(np.array(booted_pvalue) < 0.05) # FPR"
   ]
  },
  {
   "cell_type": "code",
   "execution_count": null,
   "id": "258dd2b1",
   "metadata": {},
   "outputs": [],
   "source": [
    "fig = make_subplots(rows=2, cols=1)\n",
    "\n",
    "fig.add_trace(\n",
    "    go.Histogram(x=booted_pvalue, name='booted_pvalue',),\n",
    "    row=1, col=1\n",
    ")\n",
    "\n",
    "fig.add_trace(\n",
    "    go.Histogram(x=booted_diff, name='booted_diff',),\n",
    "    row=2, col=1\n",
    ")\n",
    "\n",
    "fig.update_layout(height=800, width=1000, title_text=\"After bootstrap\")\n",
    "fig.show()"
   ]
  },
  {
   "cell_type": "markdown",
   "id": "636a055c",
   "metadata": {},
   "source": [
    "### Задание на семинар\n",
    "3. Мы провели А/А тест, в котором сравнивали одну и ту же версию сайта. Полученные результаты выглядят следующим образом. Можем ли мы на основе проведенного А/А теста запустить А/В-тестирование? Используйте уровень доверия 95%.\n"
   ]
  },
  {
   "cell_type": "markdown",
   "id": "e40520a2",
   "metadata": {},
   "source": [
    "### Задание на семинар\n",
    "4. Мы провели А/А тест, в котором сравнивали одну и ту же версию сайта. Полученные результаты выглядят следующим образом. Можем ли мы на основе проведенного А/А теста запустить А/В-тестирование? Используйте уровень доверия 95%.\n",
    "|                          | **Версия А** | **Версия В** |\n",
    "|:------------------------:|:------------:|:------------:|\n",
    "|       **Посещение**      |     6351     |     6442     |\n",
    "| **Добавление в корзину** |     1754     |     1902     |\n",
    "| **Подтверждение заказа** |     1025     |     1099     |\n",
    "|      **Транзакция**      |      623     |      642     |"
   ]
  },
  {
   "cell_type": "code",
   "execution_count": null,
   "id": "345d3247",
   "metadata": {},
   "outputs": [],
   "source": [
    "# Задаем начальные параметры\n",
    "alpha = .05\n",
    "sample_1_size, sample_2_size = 6351, 6442\n",
    "prob_1, prob_2 = 1754 / sample_1_size, 1902 / sample_2_size\n",
    "# Генерируем распределение\n",
    "a = st.bernoulli.rvs(p=prob_1, size=sample_1_size, random_state=12)\n",
    "b = st.bernoulli.rvs(p=prob_2, size=sample_2_size, random_state=25)"
   ]
  },
  {
   "cell_type": "code",
   "execution_count": null,
   "id": "e7d201a3",
   "metadata": {},
   "outputs": [],
   "source": []
  }
 ],
 "metadata": {
  "kernelspec": {
   "display_name": "Python 3 (ipykernel)",
   "language": "python",
   "name": "python3"
  },
  "language_info": {
   "codemirror_mode": {
    "name": "ipython",
    "version": 3
   },
   "file_extension": ".py",
   "mimetype": "text/x-python",
   "name": "python",
   "nbconvert_exporter": "python",
   "pygments_lexer": "ipython3",
   "version": "3.8.8"
  }
 },
 "nbformat": 4,
 "nbformat_minor": 5
}
